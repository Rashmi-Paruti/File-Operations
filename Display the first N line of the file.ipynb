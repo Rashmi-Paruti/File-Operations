{
 "cells": [
  {
   "cell_type": "markdown",
   "metadata": {},
   "source": [
    "# Write a python program to accept a file name from the user and perform the following operations \n",
    "# Display the first N line of the file\n",
    "# Find the frequency of occurrence of the word accepted from the user in the file"
   ]
  },
  {
   "cell_type": "code",
   "execution_count": 4,
   "metadata": {},
   "outputs": [
    {
     "name": "stdout",
     "output_type": "stream",
     "text": [
      "Enter the filename : sample.txt\n",
      "1 : this is phone number +917348878215 \n",
      "\n",
      "2 : no phone number here \n",
      "\n",
      "3 : we have one +917348878215 \n",
      "\n",
      "4 : we have an email aryahanumanthu@gmail.in and a number +917348878215 nothing of that sort here \n",
      "\n",
      "5 : Better hope the life-inspector doesn't come around while you have your life in such a mess. \n",
      "\n",
      "6 : You can create your own opportunities this week. Blackmail a senior executive. \n",
      "\n",
      "7 : Be different: conform. \n",
      "\n",
      "8 : Be cheerful while you are alive. \n",
      "\n",
      "9 : -- Phathotep, 24th Century B.C. \n",
      "\n",
      "10 : Q: How many journalists does it take to screw in a light bulb? A: Three. One to report it as an inspired government program to bring light to the people, one to report it as a diabolical government plot to deprive the poor of darkness, and one to win a Pulitzer prize for reporting that Electric Company hired a light bulb-assassin to break the bulb in the first place.\n",
      "\n",
      "Enter a word : phone\n",
      "The word phone appears 2 times in the file\n"
     ]
    }
   ],
   "source": [
    "import os.path\n",
    "import sys\n",
    "\n",
    "fname = input(\"Enter the filename : \")      \n",
    "\n",
    "if not os.path.isfile(fname):\n",
    "    print(\"File\", fname, \"doesn't exists\")\n",
    "    sys.exit(0)\n",
    "\n",
    "infile = open(fname, \"r\")\n",
    "\n",
    "lineList = infile.readlines()\n",
    "\n",
    "for i in range(10):\n",
    "    print(i+1, \":\", lineList[i])\n",
    "    \n",
    "word = input(\"Enter a word : \")\n",
    "cnt = 0\n",
    "for line in lineList:\n",
    "    cnt += line.count(word)\n",
    "\n",
    "print(\"The word\", word, \"appears\", cnt, \"times in the file\")"
   ]
  }
 ],
 "metadata": {
  "kernelspec": {
   "display_name": "Python 3",
   "language": "python",
   "name": "python3"
  },
  "language_info": {
   "codemirror_mode": {
    "name": "ipython",
    "version": 3
   },
   "file_extension": ".py",
   "mimetype": "text/x-python",
   "name": "python",
   "nbconvert_exporter": "python",
   "pygments_lexer": "ipython3",
   "version": "3.7.4"
  }
 },
 "nbformat": 4,
 "nbformat_minor": 2
}
